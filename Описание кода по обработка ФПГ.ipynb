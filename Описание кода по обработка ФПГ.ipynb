{
 "cells": [
  {
   "cell_type": "markdown",
   "metadata": {},
   "source": [
    "Класс signal_period объединяет в себе методы обработки массива данных."
   ]
  },
  {
   "cell_type": "markdown",
   "metadata": {},
   "source": [
    "Функция def angleInclination(data) вычисляет угол наклона касательной, которую рисует другая функция. Здесь значения переменной Х - это значения временных отсчетов, а Y - значения ФПГ сигналов, соответсвующих определенным моментам времени."
   ]
  },
  {
   "cell_type": "code",
   "execution_count": 4,
   "metadata": {},
   "outputs": [],
   "source": [
    "def angleInclination(data):\n",
    "    dannye = []\n",
    "    Y_values = data\n",
    "    for i in range(0, len(Y_values)):\n",
    "        y1 = Y_values[i][1]\n",
    "        x2 = Y_values[i][2] - Y_values[i][0]\n",
    "        y2 = Y_values[i][3]\n",
    "        \n",
    "        index_k = round((((math.atan(((y2-y1)/x2)))*180)/math.pi), 2)\n",
    "        #index_k = round((((math.atan(((y2-y1)/x2))), 2)\n",
    "        dannye.append(index_k)\n",
    "    return dannye"
   ]
  },
  {
   "cell_type": "markdown",
   "metadata": {},
   "source": [
    "Для вычисления угла наклона через уравнение нахождения прямой по двум точкам находится коэффициент наклона прямой. \n",
    "Уравнение прямой по двум заданным точкам:"
   ]
  },
  {
   "cell_type": "markdown",
   "metadata": {},
   "source": [
    "<img src=\"https://infofaq.ru/wp-content/uploads/2018/04/uravnenie-1.jpg\"> "
   ]
  },
  {
   "cell_type": "markdown",
   "metadata": {},
   "source": [
    "Согласно уравнению допустим, что прямая пересекает начальную точку с координатами [х1, у1] таким образом, что х1 = 0, а у1 соответсвует значению ФПГ в начале периода. Для того, чтобу учитывать смещение координаты х2 относительно координаты х1 для каждого периода, за значение х2 будем принимать разницу между х2 и х1. Получаем две точки с координатами: [х1, у1] = [0; Y1] и [х2, у2] = [Х2-Х1; Y2]. Через них по каноническому равнению прямой находим угол наклона прямой относительно оси ординат. \n",
    "Таким образом, для каждого периода прямая наклона переднего фронта будет выглядеть следующим образом:"
   ]
  },
  {
   "cell_type": "markdown",
   "metadata": {},
   "source": [
    "<img src=\"https://ege-study.ru/wp-content/uploads/2019/01/02p1.png\">  "
   ]
  },
  {
   "cell_type": "markdown",
   "metadata": {},
   "source": [
    "В переменную index_k записываются значения угла наклона, которые вычисляются через тангенс угла наклона прямой к оси ординат:"
   ]
  },
  {
   "cell_type": "markdown",
   "metadata": {},
   "source": [
    "<img src=\"https://cf.ppt-online.org/files/slide/v/V6LdwKt8Dm1u9MzpeoxXPjcgSZUib4ECah5YAq/slide-8.jpg\"> "
   ]
  },
  {
   "cell_type": "markdown",
   "metadata": {},
   "source": [
    "С помощью функции def stats(data) находятся статистические параметры для заданной последовательности:"
   ]
  },
  {
   "cell_type": "code",
   "execution_count": 2,
   "metadata": {},
   "outputs": [],
   "source": [
    "def stats(data):                                 #### Находятся статистические параметры\n",
    "    SKO = np.std(data)\n",
    "    meanValue = stts.mean(data)\n",
    "    modaValue = stts.mode(data)\n",
    "    l = [SKO, meanValue, modaValue]\n",
    "    return l"
   ]
  },
  {
   "cell_type": "markdown",
   "metadata": {},
   "source": [
    "Функция stats(data) возвращает список из трех элементов - среднего квадратичного отклонения, медианы и моды.\n",
    "В переменнную SKO заносится значение среднего квадратичного отклонения, которое расчитывается с помощью встроенной функции из библиотеки Pandas std(). "
   ]
  },
  {
   "cell_type": "markdown",
   "metadata": {},
   "source": [
    "<img src=\"https://quality.eup.ru/MATERIALY14/stat_v_uk/img2.gif\"> \n",
    "<img src=\"https://www.ibm.com/support/knowledgecenter/ru/SSEP7J_10.1.0/com.ibm.swg.im.cognos.ug_cr_rptstd.10.1.0.doc/images/stats_example_central_theory.jpg\"> "
   ]
  },
  {
   "cell_type": "markdown",
   "metadata": {},
   "source": [
    "В переменнную meanValue заносится значение медианы для последовательности, которое расчитывается с помощью встроенной функции из библиотеки statistics mean(). "
   ]
  },
  {
   "cell_type": "markdown",
   "metadata": {},
   "source": [
    "<img src=\"http://www.reshim.su/_bl/4/75612261.jpg\"> \n",
    "<img src=\"https://statanaliz.info/wp-content/uploads/2015/01/mediana_02.png\"> "
   ]
  },
  {
   "cell_type": "markdown",
   "metadata": {},
   "source": [
    "В переменнную modaValue заносится значение моды для последовательности, которое расчитывается с помощью встроенной функции из библиотеки statistics mode(). "
   ]
  },
  {
   "cell_type": "markdown",
   "metadata": {},
   "source": [
    "<img src=\"http://taketop.ru/images/chercehie/moda3.PNG\">\n",
    "                                                      \n",
    "<img src=\"https://statanaliz.info/wp-content/uploads/2015/01/moda_05.png\">"
   ]
  },
  {
   "cell_type": "code",
   "execution_count": null,
   "metadata": {},
   "outputs": [],
   "source": []
  }
 ],
 "metadata": {
  "kernelspec": {
   "display_name": "Python 3",
   "language": "python",
   "name": "python3"
  },
  "language_info": {
   "codemirror_mode": {
    "name": "ipython",
    "version": 3
   },
   "file_extension": ".py",
   "mimetype": "text/x-python",
   "name": "python",
   "nbconvert_exporter": "python",
   "pygments_lexer": "ipython3",
   "version": "3.7.3"
  }
 },
 "nbformat": 4,
 "nbformat_minor": 4
}
